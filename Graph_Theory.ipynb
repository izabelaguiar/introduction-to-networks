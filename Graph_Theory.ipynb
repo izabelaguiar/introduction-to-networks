{
 "cells": [
  {
   "cell_type": "markdown",
   "metadata": {},
   "source": [
    "# Day Two: Introduction to Networks and Graph Theory\n",
    "\n",
    "In this notebook we'll learn about what _Networks_ are and how they're represented in code. We'll also go over some relevant basics of a field called _Graph Theory_.\n",
    "\n",
    "I need to mention here that the bulk of this information came from the first chapter of _Networks, Crowds, and Markets_ by David Easley and Jon Kleinberg. It's a wonderful textbook on Networks! https://www.cs.cornell.edu/home/kleinber/networks-book/\n",
    "\n",
    "## Warmup Question: \n",
    "\n",
    "Ask each other how are you doing! Now, chat about if there was anything confusing about last night's exercises. If there's something you're stuck on, ask it here https://pollev.com/izabelaguiar204"
   ]
  },
  {
   "cell_type": "markdown",
   "metadata": {},
   "source": [
    "## What's a Network?\n",
    "Imagine that we were all in a room together and I gave you all long pieces of string and asked you to give one end of each string to everyone you knew. If we looked at all of us from above, we'd see something that looked like this.\n",
    "\n",
    "<img src=\"network.png\" width = 400>"
   ]
  },
  {
   "cell_type": "markdown",
   "metadata": {},
   "source": [
    "Since this is a network representing social ties, we might call it a _social network_, which you have probably heard of!  There are many more examples of networks which we'll go over, but for now let's stick with this _social network_ as a concrete example."
   ]
  },
  {
   "cell_type": "markdown",
   "metadata": {},
   "source": [
    "## Graph Theory\n",
    "\n",
    "Before we get too into networks, we'll first discuss the object called a _**graph**_. A graph is an object that specifies relationships amongst a collection of items. A graph is made up of objects called _**nodes**_ (or vertices) which are connected by _**edges**_. In the above example each person is a _**node**_ and the string signifying a friendship is an _**edge**_. \n",
    "\n",
    "In a graph, two nodes are _**neighbors**_ if there is an edge connecting them. A typical way to view a graph is with circles and lines: each circle represents a node and lines represent edges between them\n",
    "\n",
    "<img src=\"workshop_network.png\" alt=\"network\" width=\"400\"/>"
   ]
  },
  {
   "cell_type": "markdown",
   "metadata": {},
   "source": [
    "A graph can either be _**directed**_ or _**undirected**_. Undirected graphs represent _symmetric_ relationships between nodes, that is, relationships that are (or are assumed to be) reciprocated. For example, in the social network example, it wouldn't be necessary for me to give Shivani one end of one of my strings if she had already given me one end of hers... her knowing me implies that I am friends with her. We would call the edges in an undirected graph _undirected edges_. However, if we had instead formed the network by saying, \"Give one end of a string to everybody that _you texted_ last week\" then the relationships might be _asymmetric_. What if Shivani texted me but I had forgotten to reply? We would call the edges in a directed graph _directed edges_."
   ]
  },
  {
   "cell_type": "markdown",
   "metadata": {},
   "source": [
    "### DISCUSSION PROMPT \n",
    "#### Why do you think there need to be both directed and undirected graphs? \n",
    "What kind of information do you think would be missing if a graph was assumed to be undirected if it actually wasn't? Think about what you might learn about a group of classmates if they were asked about friendships or romantic relationships. Wouldn't it be interesting to know if an edge was directed or not? \n",
    "#### Self loops\n",
    "When a node has an edge connecting it to itself, the edge is called a \"self-loop\". Can you think of an example of a graph where self loops would make sense?\n",
    "\n",
    "Fill out the poll here as you discuss these questions https://pollev.com/izabelaguiar204"
   ]
  },
  {
   "cell_type": "markdown",
   "metadata": {},
   "source": [
    "## Examples of Graphs and Networks\n",
    "Because graphs are objects which describe relationships between things, they are the perfect way to represent a network (in fact, they are so perfect that I might accidentally use the two words interchangeably). \n",
    "\n",
    "Althought we've introduced the main components of graphs with the _social network_ example above, remember that graphs indicate _any_ relationship between _any_ types of objects--not just social ties between humans! Below are some more examples:\n",
    "\n",
    "* **The BART train map** Nodes are the BART stops and the BART lines that go between the stops as edges. This is an example of a _transportation network_.\n",
    "* **Prerequesites for courses** Nodes are the courses and the _directed_ edges are the dependencies: an edge from CS100 to CS102 means you must take CS100 before CS102. This is an example of a _dependency network_.\n",
    "* **Bridges** Joints are nodes and physical bars are edges. This is an example of a _structural network_.\n",
    "* **Web Links** Websites are nodes and links from one website to another are edges. \n",
    "\n",
    "Can you think of any more examples of networks?"
   ]
  },
  {
   "cell_type": "markdown",
   "metadata": {},
   "source": [
    "### Connectivity\n",
    "We say a graph is _**connected**_ if for _any_ pair of nodes there is a path between them. Is the following graph connected? How do you know?\n",
    "\n",
    "<img src=\"connected.png\" alt=\"connected\" width=\"400\"/>"
   ]
  },
  {
   "cell_type": "markdown",
   "metadata": {},
   "source": [
    "### Components\n",
    "The graph represented above is _not_ connected. This is because there is no such path between any pink node and any light blue node, nor between any pink node and the green node, nor between the green node and any light blue node! When a graph is not connected it has more than one _**component**_. A _**connected component**_ (also called just a component) of a graph is a subset of the nodes such that there is (i) a path between every pair of nodes in the subset and (ii) the subset is not part of some larger set wherein every node has a path to every other. \n",
    "\n",
    "For example, in the above graph, there are **three connected components**, given by the pink, light blue, and green groups of nodes. "
   ]
  },
  {
   "cell_type": "markdown",
   "metadata": {},
   "source": [
    "## Distances in graphs\n",
    "Have you ever heard about the \"Kevin Bacon Phenomenon\" or \"Six Degrees of Kevin Bacon\"?\n",
    "\n",
    "<img src=\"KB.png\" alt=\"Kevin Bacon\" width=\"500\"/>"
   ]
  },
  {
   "cell_type": "markdown",
   "metadata": {},
   "source": [
    "It's a (silly) observation that will help us consider the idea of distances in graphs. Imagine a \"movie graph\" where all the nodes are actors and an edge between two actors means that those actors have acted in a movie together. Then consider that the \"distance\" between two actors is the minimum number of edges one must \"walk\" on to get from one node to the other. Consider the simple graph below\n",
    "\n",
    "<img src=\"distance.png\" alt=\"distance\" width=\"400\"/>"
   ]
  },
  {
   "cell_type": "markdown",
   "metadata": {},
   "source": [
    "To get from node 0 to node 2 means \"walking\" on only the one edge between them, and thus the distance between node 0 and node 2 is 1. However, to get from node 0 to node 3 means either \"walking\" from 0 to 1 to 2 to 3, or from 0 to 4 to 3, or from 0 to 2 to 3. The distance is defined by the _shortest_ path between nodes, so therefore the distance between node 0 and node 3 is 2. \n",
    "\n",
    "### QUESTION: What's the maximum distance between nodes on the graph below? \n",
    "\n",
    "<img src=\"distance_2.png\" alt=\"distance_2\" width=\"400\"/>\n",
    "\n",
    "Fill out your answer here https://pollev.com/izabelaguiar204"
   ]
  },
  {
   "cell_type": "markdown",
   "metadata": {},
   "source": [
    "An actor's \"Bacon Number\" is the distance from them to Kevin Bacon in the \"movie graph\" we described above. If we were to make this movie graph using data from IMDb, and average _every single actor's_ Bacon Number, it is **only 2.9**. That is, every actor in the IMDb data base is on average only distance 2.9 away from Kevin Bacon. Amazingly, one \"movie enthusiast\" described his attempt to scour IMDb for the largest Bacon number, \n",
    "> With my life-long passion for movies, I couldn't resist spending many hours probing the dark recesses of film history until, at about 10 AM on Sunday, I found an incredibly obscure 1928 Soviet pirate film, _Plenniki Morya_, starring P. Savin with a Bacon number of 7, and whose supporting cast of 8 appeared nowhere else.\n",
    "\n",
    "Also read this beautiful follow up from Networks, Crowds, and Markets\n",
    ">One is left with an image of a long exploration that arrives finally at the outer edge of the movie world -- in the early history of film, in the Soviet Union -- and yet in another sense, only eight steps from where it started."
   ]
  },
  {
   "cell_type": "markdown",
   "metadata": {},
   "source": [
    "## How are Graphs and Networks represented?\n",
    "\n",
    "Above we imagined networks with strings and saw how they look as pictures. But an important part of studying networks is knowing how they're represented as data-objects.\n",
    "\n",
    "Imagine there's a group of 7 people; Felicity, Solomon, Bradley, Minton, Silus, Shauna, Merika. If we asked them all, \"Are you friends with X?\" and represented their answers as a table, it might look something like this:\n",
    "\n",
    "| |Felicity | Solomon | Bradley | Minton | Silus | Shauna | Merika |\n",
    "|--- | --- | --- | --- | --- | --- | --- | --- | \n",
    "Felicity | | Y | N | Y | N | Y | Y \n",
    "Solomon | Y | | Y | N | Y | N | Y |\n",
    "Bradley  | N | Y | | N | Y | Y | Y |\n",
    "Minton   | N | Y | Y | | N | N | Y |\n",
    "Silus  | Y | Y | N | Y | | Y | N |\n",
    "Shauna | N | Y | N | N | Y |  | N |\n",
    "Merika | Y | Y | N | N | Y | Y |  |      \n",
    "\n",
    "\n",
    "If we changed all the \"Yes\" values in the table to \"1\"s and all the \"No\" values to \"0\"s, it would look like this,\n",
    "\n",
    "| |Felicity | Solomon | Bradley | Minton | Silus | Shauna | Merika |\n",
    "|--- | --- | --- | --- | --- | --- | --- | --- | \n",
    "Felicity | 0 | 1 | 1 | 1 | 0 | 1 | 1 | \n",
    "Solomon | 1 | 0 | 1 | 0 | 1 | 0 | 1 |\n",
    "Bradley  | 0 | 1 | 0 | 1 | 1 | 1 | 1 |\n",
    "Minton   | 0 | 1 | 1 | 0 | 0 | 0 | 1 |\n",
    "Silus  | 1 | 1 | 0 | 1 | 0 | 1 | 0 |\n",
    "Shauna | 0 | 1 | 0 | 0 | 1 | 0 | 0 |\n",
    "Merika | 1 | 1 | 0 | 0 | 1 | 1 |  0|    \n",
    "\n",
    "In the exercise from last night we learned about _matrices_ and how to use them to represent tables. If we made the above table into a matrix, it would look like, \n",
    "\n",
    "$$\\begin{bmatrix}  0 & 1 & 1 & 1 & 0 & 1 & 1 \\\\ 1 & 0 & 1 & 0 & 1 & 0 & 1 \\\\ 0 & 1 & 0 & 1 & 1 & 1 & 1 \\\\ 0 & 1 & 1 & 0 & 0 & 0 & 1 \\\\ 1 & 1 & 0 & 1 & 0 & 1 & 0 \\\\ 0 & 1 & 0 & 0 & 1 & 0 & 0\\\\  1 & 1 & 0 & 0 & 1 & 1 &  0\\end{bmatrix}$$\n",
    "\n",
    "A matrix created in this fashion -- with rows and columns corresponding to nodes in a graph and 1-entries corresponding to edges between relative nodes -- is called an _**adjacency matrix**_. Adjacency matrices are how we represent graphs!\n",
    "\n",
    "## DISCUSSION PROMPT: \n",
    "Is the graph given by the above adjacency matrix _directed_ or _undirected_? How do you know?\n",
    "\n",
    "_Hint: You can use the below code to help, but don't worry if you don't understand it!_"
   ]
  },
  {
   "cell_type": "code",
   "execution_count": 15,
   "metadata": {},
   "outputs": [],
   "source": [
    "import numpy as np\n",
    "Basic_Network = np.array([ [0, 1, 1, 1, 0, 1, 1], \n",
    "                          [1, 0, 1, 0, 1, 0, 1], \n",
    "                          [0, 1, 0, 1, 1, 1, 1], \n",
    "                          [0, 1, 1, 0, 0, 0, 1], \n",
    "                          [1, 1, 0, 1, 0, 1, 0], \n",
    "                          [0, 1, 0, 0, 1, 0, 0], \n",
    "                          [1, 1, 0, 0, 1, 1, 0] ])"
   ]
  },
  {
   "cell_type": "code",
   "execution_count": 16,
   "metadata": {},
   "outputs": [
    {
     "data": {
      "text/plain": [
       "array([[ True,  True, False, False, False, False,  True],\n",
       "       [ True,  True,  True, False,  True, False,  True],\n",
       "       [False,  True,  True,  True, False, False, False],\n",
       "       [False, False,  True,  True, False,  True, False],\n",
       "       [False,  True, False, False,  True,  True, False],\n",
       "       [False, False, False,  True,  True,  True, False],\n",
       "       [ True,  True, False, False, False, False,  True]])"
      ]
     },
     "execution_count": 16,
     "metadata": {},
     "output_type": "execute_result"
    }
   ],
   "source": [
    "Basic_Network == Basic_Network.T"
   ]
  }
 ],
 "metadata": {
  "kernelspec": {
   "display_name": "Python 3",
   "language": "python",
   "name": "python3"
  },
  "language_info": {
   "codemirror_mode": {
    "name": "ipython",
    "version": 3
   },
   "file_extension": ".py",
   "mimetype": "text/x-python",
   "name": "python",
   "nbconvert_exporter": "python",
   "pygments_lexer": "ipython3",
   "version": "3.9.1"
  }
 },
 "nbformat": 4,
 "nbformat_minor": 4
}
