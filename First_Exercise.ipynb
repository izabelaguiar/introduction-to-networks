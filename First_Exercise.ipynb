{
 "cells": [
  {
   "cell_type": "markdown",
   "metadata": {},
   "source": [
    "# First Exercise: The basics!\n",
    "\n",
    "In this notebook we'll briefly go over some of the parts of python we'll be using this week. It's important to note that I'm skipping over some of the main philisophical components of coding. If you're just seeing code for the first time, I don't want this to be overwhelming! I'm hoping that by only introducing what we'll be using this week, it'll make it less intimidating. Just know that this little bit of code we'll be using represents such a tiny part of the universe of coding! \n",
    "\n",
    "# Important: \n",
    "Double click this \"cell\" and type your team name below.\n",
    "\n",
    "**Team Name Goes Here**"
   ]
  },
  {
   "cell_type": "markdown",
   "metadata": {},
   "source": [
    "## Importing Libraries\n",
    "\n",
    "First we'll learn how to import libraries. Libraries are packages of code that other people have written and shared to help other users have cleaner and more efficient code. They include definitions for complicated pieces of code called _functions_ and defined _objects_ so that users can \"call\" on the functions instead of rewriting everything!"
   ]
  },
  {
   "cell_type": "markdown",
   "metadata": {},
   "source": [
    "Imagine we wanted to import a package called `affection` because we wanted to use the function `hug`.  The first thing we would do is import the package by typing `import affection`.\n",
    "     \n",
    "Then (assuming we had an object defined named `Izzy`) if we wanted to use the `hug()` function we would just type `affection.hug(Izzy)`.\n",
    "\n",
    "If typing `affection` was too long we could give it a nickname by typing `import affection as aff`. Once we've nicknamed the package, to use the hug function we would just need to write `aff.hug(Izzy)`.\n",
    "\n",
    "Say the `affection` package contains the functions `hug`, `hold_hands`, and `high_five`, but we know we will just use the `hug` function for our program. In that case, we can just type `import affection.hug` and then to use it we would just need to write `hug(Izzy)`."
   ]
  },
  {
   "cell_type": "markdown",
   "metadata": {},
   "source": [
    "The three packages we'll be using this week are `numpy`, `networkx`, and `matplotlib`. They will help us store, analyze, and visualize networks."
   ]
  },
  {
   "cell_type": "markdown",
   "metadata": {},
   "source": [
    "### What is `numpy`?"
   ]
  },
  {
   "cell_type": "code",
   "execution_count": 1,
   "metadata": {},
   "outputs": [],
   "source": [
    "import numpy as np"
   ]
  },
  {
   "cell_type": "markdown",
   "metadata": {},
   "source": [
    "The package `numpy` is short for \"numerical python\". It's a package that contains a lot of helpful tools for doing computational mathematics. We'll just be using _numpy arrays_ which will help us store data about networks. Note that here I gave `numpy` the nickname, `np`. This is a common nickname for the `numpy` package and you'll probably see it online!"
   ]
  },
  {
   "cell_type": "markdown",
   "metadata": {},
   "source": [
    "### What is `networkx`?"
   ]
  },
  {
   "cell_type": "code",
   "execution_count": 2,
   "metadata": {},
   "outputs": [],
   "source": [
    "import networkx as nx"
   ]
  },
  {
   "cell_type": "markdown",
   "metadata": {},
   "source": [
    "This week we'll be learning about these amazing things called _networks_ which tell us about the relationships between certain objects (like humans, chemicals, or trains). The package `networkx` has been developed specifically for understanding these things! "
   ]
  },
  {
   "cell_type": "markdown",
   "metadata": {},
   "source": [
    "### What is `matplotlib`?"
   ]
  },
  {
   "cell_type": "code",
   "execution_count": 3,
   "metadata": {},
   "outputs": [],
   "source": [
    "import matplotlib.pyplot as plt"
   ]
  },
  {
   "cell_type": "markdown",
   "metadata": {},
   "source": [
    "The package `matplotlib` contains lots of tools for visulizing data in python. The specific part we're loading, `pyplot` will help us plot networks. The nickname `plt` is commonly used for the `pyplot` part of the `matplotlib` package."
   ]
  },
  {
   "cell_type": "markdown",
   "metadata": {},
   "source": [
    "## Matrices and arrays\n",
    "\n",
    "As we'll talk about tomorrow, the main mathematical object related to networks are called _adjacency matrices_. Don't worry if you've never heard about them before! We'll be able to talk through it all tomorrow. To gain a bit of familiarity, it's helpful to think of matrices as the math-y version of tables. \n",
    "\n",
    "For example, imagine we have a table of values:\n",
    "\n",
    "**<div align=\"center\"> What did you eat yesterday?</div>**\n",
    "\n",
    "| Name | Number of sandwiches eaten | Number of grapes eaten | Number of cookies eaten |\n",
    "| --- | --- | --- | --- |\n",
    "| Izzy | 3 | 24 | 6 |\n",
    "| Shivani | 2 | 8 | 3 |\n",
    "| Malcolm | 1 | 0 | 15 |\n",
    "| Sherry | 2 | 11 | 3 |\n",
    "\n",
    "If we wanted to represent this table as a _matrix_, it would look like this:\n",
    "\n",
    "$$\\begin{bmatrix} 3 & 24 & 6 \\\\ 2 & 8 & 3 \\\\ 1 & 0 & 15 \\\\ 2 & 11 & 3 \\end{bmatrix}$$\n",
    "\n",
    "Notice that the row and column names are now implied rather than being explicit as they are in the table. It's still important to maintain an understanding of _what_ a matrix represents, and oftentimes this means having discipline-specific experts to collaborate with.\n",
    "\n",
    "In the following chunk of code, we'll learn how to create this same matrix as an array using `numpy`."
   ]
  },
  {
   "cell_type": "markdown",
   "metadata": {},
   "source": [
    "## Creating a matrix using `numpy`\n",
    "We'll create a `numpy` array named `Ate_Yesterday` to represent the matrix we defined above."
   ]
  },
  {
   "cell_type": "code",
   "execution_count": 60,
   "metadata": {},
   "outputs": [
    {
     "name": "stdout",
     "output_type": "stream",
     "text": [
      "[[ 3 24  6]\n",
      " [ 2  8  3]\n",
      " [ 1  0 15]\n",
      " [ 2 11  3]]\n"
     ]
    }
   ],
   "source": [
    "Ate_Yesterday = np.array([ [3, 24, 6], [2, 8, 3], [1, 0, 15], [2, 11, 3] ])\n",
    "\n",
    "print(Ate_Yesterday)"
   ]
  },
  {
   "cell_type": "markdown",
   "metadata": {},
   "source": [
    "If we were worried about remembering what the name of the columns or rows of the table were, we could create arrays to help us:"
   ]
  },
  {
   "cell_type": "code",
   "execution_count": 64,
   "metadata": {},
   "outputs": [],
   "source": [
    "columns = np.array([ 'Sandwiches', 'Grapes', 'Cookies' ])\n",
    "rows = np.array([ 'Izzy', 'Shivani', 'Malcolm', 'Sherry' ])"
   ]
  },
  {
   "cell_type": "markdown",
   "metadata": {},
   "source": [
    "### Zero-indexing in Python\n",
    "If you've never used python before, a really important thing to know is that _everything_ is \"zero-indexed\". This means that the _first_ of any list or array is the \"zero-th\" element. \n",
    "\n",
    "So if we wanted to know the first row in the table, we would type `print(rows[0])`"
   ]
  },
  {
   "cell_type": "code",
   "execution_count": 6,
   "metadata": {},
   "outputs": [
    {
     "name": "stdout",
     "output_type": "stream",
     "text": [
      "Izzy\n"
     ]
    }
   ],
   "source": [
    "print(rows[0])"
   ]
  },
  {
   "cell_type": "markdown",
   "metadata": {},
   "source": [
    "### Accessing and editing elements of a matrix\n",
    "\n",
    "What if we wanted to know how many cookies Shivani ate yesterday? Since Shivani is the _second_ row in the table, we know her corresponding row in the matrix is `1`. Since cookies are the _third_ column in the table, we know the corresponding column in the matrix is `2`. In math, we'd say we want to know the (1,2) element of the matrix. To do so, we would type `print( Ate_Yesterday[1,2])`."
   ]
  },
  {
   "cell_type": "code",
   "execution_count": 7,
   "metadata": {},
   "outputs": [
    {
     "name": "stdout",
     "output_type": "stream",
     "text": [
      "3\n"
     ]
    }
   ],
   "source": [
    "print(Ate_Yesterday[1, 2])"
   ]
  },
  {
   "cell_type": "markdown",
   "metadata": {},
   "source": [
    "When we type brackets `[]` next to the matrix, we are telling python we want to access some value of the matrix. Notice that the row number always goes first, and the column number second. In this same way we can rewrite elements of the matrix!\n",
    "\n",
    "Let's say that I realized I had mis-counted and remembered that I actually ate 14 cookies yesterday. If we wanted to update our matrix to reflect this (without re-creating the entire thing!) we could do so by re-writing the (0, 2) element of the matrix:"
   ]
  },
  {
   "cell_type": "code",
   "execution_count": 10,
   "metadata": {},
   "outputs": [
    {
     "name": "stdout",
     "output_type": "stream",
     "text": [
      "14\n"
     ]
    }
   ],
   "source": [
    "Ate_Yesterday[0, 2] = 14\n",
    "print(Ate_Yesterday[0, 2])"
   ]
  },
  {
   "cell_type": "markdown",
   "metadata": {},
   "source": [
    "What if I wanted to know everything that Malcolm ate yesterday? I _could_ ask to print each individual element of his corresponding row by typing `print(Ate_Yesterday[2, 0], Ate_Yesterday[2, 1], Ate_Yesterday[2, 2])`. This is a bit annoying! Another approach would be to use what I like to call the \"all-symbol\" in python, `:`. If I wanted to print _all_ of Malcolm's row, I could instead type `print(Ate_Yesterday[2, :])`!"
   ]
  },
  {
   "cell_type": "code",
   "execution_count": 12,
   "metadata": {},
   "outputs": [
    {
     "name": "stdout",
     "output_type": "stream",
     "text": [
      "1 0 15\n",
      "[ 1  0 15]\n"
     ]
    }
   ],
   "source": [
    "print(Ate_Yesterday[2, 0], Ate_Yesterday[2, 1], Ate_Yesterday[2, 2])\n",
    "\n",
    "print(Ate_Yesterday[2, :])"
   ]
  },
  {
   "cell_type": "markdown",
   "metadata": {},
   "source": [
    "We can use the \"all-symbol\" for columns, too! If I wanted to know how many grapes each person ate yesterday, I could write `print(Ate_Yesterday[:, 1])`"
   ]
  },
  {
   "cell_type": "code",
   "execution_count": 13,
   "metadata": {},
   "outputs": [
    {
     "name": "stdout",
     "output_type": "stream",
     "text": [
      "[24  8  0]\n"
     ]
    }
   ],
   "source": [
    "print(Ate_Yesterday[:, 1])"
   ]
  },
  {
   "cell_type": "markdown",
   "metadata": {},
   "source": [
    "## Reading in an array from a file\n",
    "What if we're given a table as a file? It would be silly to individually type out the array as we did above. What if there were hundreds of columns? What if we made a mistake? Here we'll learn how to read in a `.csv` file to avoid that issue!\n",
    "\n",
    "\n",
    "Let's say I have the file `Ate_Yesterday.csv` saved in my computer. If I save it to the same location I'm running this notebook from, I can just type:"
   ]
  },
  {
   "cell_type": "code",
   "execution_count": 62,
   "metadata": {},
   "outputs": [],
   "source": [
    "folder = \"\"\n",
    "file = \"Ate_Yesterday\"\n",
    "ext = \".csv\"\n",
    "Ate_Yesterday = np.genfromtxt(folder+file+ext, dtype=int, delimiter=',', skip_header=True)"
   ]
  },
  {
   "cell_type": "markdown",
   "metadata": {},
   "source": [
    "We're using a numpy function called `genfromtxt` with four parameters. The string `folder + file + ext` tells the function where the file you're looking for is and what it's called. `dtype = int` tells the function that the data type of the numpy array should be integers. `delimiter = ','` tells the function that the numbers in the table are \"column separated\", which is the default for tables exported to a `.csv` file. `skip_header = True` tells the function that there are headers in the table and that they should be skipped!"
   ]
  },
  {
   "cell_type": "code",
   "execution_count": 63,
   "metadata": {},
   "outputs": [
    {
     "name": "stdout",
     "output_type": "stream",
     "text": [
      "[[ 3 24  6]\n",
      " [ 2  8  3]\n",
      " [ 1  0 15]\n",
      " [ 2 11  3]]\n"
     ]
    }
   ],
   "source": [
    "print(Ate_Yesterday)"
   ]
  },
  {
   "cell_type": "markdown",
   "metadata": {},
   "source": [
    "## Printing the shape of a matrix\n",
    "What if we want to make sure what the size of our matrix is? Use the `np.shape()` function."
   ]
  },
  {
   "cell_type": "code",
   "execution_count": 69,
   "metadata": {},
   "outputs": [
    {
     "data": {
      "text/plain": [
       "(4, 3)"
      ]
     },
     "execution_count": 69,
     "metadata": {},
     "output_type": "execute_result"
    }
   ],
   "source": [
    "np.shape(Ate_Yesterday)"
   ]
  },
  {
   "cell_type": "markdown",
   "metadata": {},
   "source": [
    "If you want to know the length of a one-dimensional array or a list, an easy way to do this is by using the `len()` function."
   ]
  },
  {
   "cell_type": "code",
   "execution_count": 70,
   "metadata": {},
   "outputs": [
    {
     "data": {
      "text/plain": [
       "3"
      ]
     },
     "execution_count": 70,
     "metadata": {},
     "output_type": "execute_result"
    }
   ],
   "source": [
    "len(columns)"
   ]
  },
  {
   "cell_type": "markdown",
   "metadata": {},
   "source": [
    "## Initializing a matrix\n",
    "What if I don't know what values I want in my matrix, but I want to create it so it's easier to fill in later? To do this, it's nice to use the `zeros()` function. To use it, you just need to type `np.zeros( (n,m) )` where `n` is the number of rows you'd like to have and `m` is the number of columns."
   ]
  },
  {
   "cell_type": "code",
   "execution_count": 65,
   "metadata": {},
   "outputs": [
    {
     "name": "stdout",
     "output_type": "stream",
     "text": [
      "[[0. 0. 0.]\n",
      " [0. 0. 0.]\n",
      " [0. 0. 0.]\n",
      " [0. 0. 0.]]\n"
     ]
    }
   ],
   "source": [
    "empty = np.zeros( (4,3) )\n",
    "print(empty)"
   ]
  },
  {
   "cell_type": "markdown",
   "metadata": {},
   "source": [
    "## What's Next?\n",
    "\n",
    "Tomorrow we'll go over networks, how to use matrices to represent them, and how the packages `networkx` and `matplotlib` can help us understand and visualize them.\n",
    "\n",
    "If you're using Jupyter Notebooks on your laptop (instead of through the browser), make sure you download the `networkx` package by following these instructions! https://networkx.org/documentation/stable/install.html\n",
    "\n",
    "If you're not sure if you need to download `networkx`, check to see if the following line of code gives you an error message. If it does, you'll need to download it. "
   ]
  },
  {
   "cell_type": "code",
   "execution_count": 11,
   "metadata": {},
   "outputs": [],
   "source": [
    "import networkx as nx"
   ]
  },
  {
   "cell_type": "markdown",
   "metadata": {},
   "source": [
    "# Task: \n",
    "Once you've finished this notebook, make sure you edit the top cell to add your team name. When you're done, select File -> Download As -> Notebook (.ipynb). **Then upload this file to your team's workspace in Teams and tag your tutor.** This will show us that you've walked through this notebook and have successfully gotten your Jupyter notebook set up. \n",
    "\n",
    "Also, don't forget to fill out the network survey! Link in Day 1 channel for Teams."
   ]
  },
  {
   "cell_type": "markdown",
   "metadata": {},
   "source": [
    "## Challenge\n",
    "This is optional! \n",
    "\n",
    "Above we accessed elements of the matrix using indices `Ate_Yesterday[2, 1]` told us how many grapes Malcolm ate yesterday. Can you think of a way to access elements of the matrix just using the lists `columns` and `rows`, the names `Izzy`, `Shivani`, `Malcolm`, and `Sherry`, and the food items `Sandwiches`, `Grapes`, and `Cookies`?"
   ]
  },
  {
   "cell_type": "code",
   "execution_count": null,
   "metadata": {},
   "outputs": [],
   "source": []
  }
 ],
 "metadata": {
  "kernelspec": {
   "display_name": "Python 3",
   "language": "python",
   "name": "python3"
  },
  "language_info": {
   "codemirror_mode": {
    "name": "ipython",
    "version": 3
   },
   "file_extension": ".py",
   "mimetype": "text/x-python",
   "name": "python",
   "nbconvert_exporter": "python",
   "pygments_lexer": "ipython3",
   "version": "3.9.1"
  }
 },
 "nbformat": 4,
 "nbformat_minor": 4
}
