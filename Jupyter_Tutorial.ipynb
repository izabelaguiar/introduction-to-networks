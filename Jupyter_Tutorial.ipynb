{
 "cells": [
  {
   "cell_type": "markdown",
   "metadata": {},
   "source": [
    "# First Exercise: Jupyter Notebooks!"
   ]
  },
  {
   "cell_type": "markdown",
   "metadata": {},
   "source": [
    "Jupyter notebooks are lovely. They let you test out code snippets without fully committing to an entire script, and documenting your code is a lot more straightforward. If you have a LaTeX compiler, you can compile them into beautiful PDFs. \n",
    "\n",
    "Since we'll be using Jupyter notebooks for this workshop, let's get a bit of familiarity with them!"
   ]
  },
  {
   "cell_type": "markdown",
   "metadata": {},
   "source": [
    "## Downloading Jupyter Notebooks\n",
    "If you're interested in downloading Jupyter notebooks onto your computer, you can follow the instructions at this link https://jupyter.org/install.html\n",
    "\n",
    "Basically, if you use `pip`, you can install it using the command\n",
    "\n",
    "```\n",
    "pip install jupyterlab\n",
    "\n",
    "```"
   ]
  },
  {
   "cell_type": "markdown",
   "metadata": {},
   "source": [
    "## Using Jupyter Notebook in your Browser\n",
    "\n",
    "Go to https://jupyter.org/try and click on \"Try Classic Notebook\"\n",
    "\n",
    "<img src=\"A.png\" width=\"500\"/>\n",
    "\n",
    "The site will load a temporary Jupyter server. While you wait it will look like this\n",
    "\n",
    "<img src=\"C.png\" width=\"500\"/>\n",
    "\n",
    "Once the repository has started, you can either create a new notebook by navigating to File -> New Notebook -> Python 3\n",
    "\n",
    "<img src=\"F.png\" width=\"500\"/>\n",
    "\n",
    "### Opening the next exercise\n",
    "You can open an existing `.ipynb` file by navigating to File -> Open...\n",
    "\n",
    "<img src=\"D.png\" width=\"500\"/>\n",
    "\n",
    "You'll be directed to a page that looks like this.\n",
    "\n",
    "<img src=\"E.png\" width=\"500\"/>\n",
    "\n",
    "Select upload and navigate to where you've downloaded the `First_Exercise.ipynb` file. Select it and click upload again.\n",
    "\n",
    "<img src=\"G.png\" width=\"500\"/>\n",
    "\n",
    "### Uploading necessary `.csv` file\n",
    "You'll also need to upload the `Ate_Yesterday.csv` file to be able to execute the code properly. In the same screen where you just uploaded `First_Exercise.ipynb` select upload again and navigate to where you've saved `Ate_Yesterday.csv`. Hit upload, and then upload again.\n",
    "\n",
    "<img src=\"xI.png\" width=\"500\"/>\n",
    "\n",
    "Now you should be able to follow along and execute the code in the `First_Exercise.ipynb` file!"
   ]
  },
  {
   "cell_type": "markdown",
   "metadata": {},
   "source": [
    "## Executing code in Jupyter\n",
    "To add a \"block\" of code in a Jupyter notebook, click the + button. If you'd like the block to be just text, go to the dropdown menu and select \"Markdown\". If you have any questions on how to format a Markdown block, feel free to ask or google! \n",
    "\n",
    "Once you've written a block of code, to run it press `Shift + Enter`. The same command will turn a Markdown block into pretty text!"
   ]
  },
  {
   "cell_type": "markdown",
   "metadata": {},
   "source": [
    "## Uploading files to the Jupyter browser"
   ]
  }
 ],
 "metadata": {
  "kernelspec": {
   "display_name": "Python 3",
   "language": "python",
   "name": "python3"
  },
  "language_info": {
   "codemirror_mode": {
    "name": "ipython",
    "version": 3
   },
   "file_extension": ".py",
   "mimetype": "text/x-python",
   "name": "python",
   "nbconvert_exporter": "python",
   "pygments_lexer": "ipython3",
   "version": "3.9.1"
  }
 },
 "nbformat": 4,
 "nbformat_minor": 4
}
